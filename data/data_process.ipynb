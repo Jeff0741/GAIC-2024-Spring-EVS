{
 "cells": [
  {
   "cell_type": "markdown",
   "metadata": {},
   "source": [
    "## AGI-Odessey\n",
    "\n",
    "### Step 1: 数据处理"
   ]
  },
  {
   "cell_type": "code",
   "execution_count": 1,
   "metadata": {},
   "outputs": [],
   "source": [
    "import re \n",
    "\n",
    "def load_file(file_path):\n",
    "\n",
    "    with open(file_path, 'r') as file:\n",
    "        data = file.read()\n",
    "\n",
    "    # 使用正则表达式匹配 \\begin{problem} 和 \\end{problem} 之间的内容\n",
    "    problems = re.findall(r'\\\\begin{problem}(.*?)\\\\end{problem}', data, re.DOTALL)\n",
    "\n",
    "    # 删除 \\label{} 中的内容\n",
    "    problems = [re.sub(r'\\\\label{.*?}', '', problem) for problem in problems]\n",
    "    \n",
    "    problems = [problem.strip() for problem in problems]\n",
    "    \n",
    "    return problems\n",
    "\n",
    "file_path = \"Global_Artificial_Intelligence_Championship_Math2024.tex\"\n",
    "\n",
    "questions = load_file(file_path)"
   ]
  },
  {
   "cell_type": "code",
   "execution_count": 2,
   "metadata": {},
   "outputs": [],
   "source": [
    "json_data = {}\n",
    "\n",
    "for i, problem in enumerate(questions):\n",
    "    \n",
    "    json_data[str(i+1)] = {}\n",
    "    json_data[str(i+1)]['content'] = problem\n",
    "    # json_data[str(i+1)]['process'] = ''\n",
    "    json_data[str(i+1)]['answer'] = ''\n",
    "    # json_data[str(i+1)]['evaluate'] = {}\n",
    "    \n",
    "import json\n",
    "\n",
    "def save_json(data, file_path='problems.json'):\n",
    "    with open(file_path, 'w') as file:\n",
    "        json.dump(data, file, indent=4)\n",
    "def load_json(file_path='problems.json'):\n",
    "    \n",
    "    with open(file_path, 'r') as file:\n",
    "        data = json.load(file)\n",
    "        \n",
    "    return data\n",
    "\n",
    "save_json(json_data)"
   ]
  },
  {
   "cell_type": "markdown",
   "metadata": {},
   "source": []
  },
  {
   "cell_type": "code",
   "execution_count": 2,
   "metadata": {},
   "outputs": [],
   "source": []
  }
 ],
 "metadata": {
  "kernelspec": {
   "display_name": "blacksheep",
   "language": "python",
   "name": "python3"
  },
  "language_info": {
   "codemirror_mode": {
    "name": "ipython",
    "version": 3
   },
   "file_extension": ".py",
   "mimetype": "text/x-python",
   "name": "python",
   "nbconvert_exporter": "python",
   "pygments_lexer": "ipython3",
   "version": "3.10.12"
  }
 },
 "nbformat": 4,
 "nbformat_minor": 2
}
